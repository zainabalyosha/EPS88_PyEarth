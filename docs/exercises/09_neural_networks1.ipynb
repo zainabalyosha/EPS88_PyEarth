{
  "cells": [
    {
      "cell_type": "markdown",
      "metadata": {
        "id": "V920LTuiq40d"
      },
      "source": [
        "## Regression and Classification with Neural Networks\n",
        "\n",
        "<a target=\"_blank\" href=\"https://colab.research.google.com/github/AI4EPS/EPS88_PyEarth/blob/master/docs/exercises/09_neural_networks1.ipynb\">\n",
        "<img src=\"https://www.tensorflow.org/images/colab_logo_32px.png\" />Run in Google Colab</a>"
      ]
    },
    {
      "cell_type": "markdown",
      "metadata": {
        "id": "74YlR8YstApv"
      },
      "source": [
        "<center><img src='https://raw.githubusercontent.com/zhuwq0/images/main/1-1-ai-complete-graph.jpeg' style='width: 40%'/></center>\n",
        "\n",
        "Created by Minh-Chien Trinh, Jeonbuk National University,\n",
        "\n",
        "## 1.1. A Brief History\n",
        "\n",
        "In the 1940s, NNs were conceived.\n",
        "\n",
        "In the 1960s, the concept of backpropagation came, then people know how to train them.\n",
        "\n",
        "In 2010, NNs started winning competitions and get much attention than before.\n",
        "\n",
        "Since 2010, NNs have been on a meteoric rise as their magical ability to solve problems previously deemed unsolvable (i.e., image captioning, language translation, audio and video synthesis, and more).\n",
        "\n",
        "One important milestone is the AlexNet architecture in 2012, which won the ImageNet competition.\n",
        "\n",
        "<!-- ![](https://raw.githubusercontent.com/zhuwq0/images/main/alexnet.png) -->\n",
        "<img src='https://raw.githubusercontent.com/zhuwq0/images/main/alexnet.png' style='width: 30%'/>\n",
        "\n",
        "<!-- ![](https://raw.githubusercontent.com/zhuwq0/images/main/alexnet_score.png) -->\n",
        "<img src='https://raw.githubusercontent.com/zhuwq0/images/main/alexnet_score.png' style='width: 30%'/>\n",
        "\n",
        "The ImageNet competition is a benchmark for image classification, where the goal is to classify images into one of 1,000 categories.\n",
        "\n",
        "<!-- ![](https://raw.githubusercontent.com/zhuwq0/images/main/imagenet.png) -->\n",
        "<img src='https://raw.githubusercontent.com/zhuwq0/images/main/imagenet.png' style='width: 30%'/>\n",
        "\n",
        "You can find more information about the AlexNet model on [Wikipedia](https://en.wikipedia.org/wiki/AlexNet). We will use the AlexNet model in the next lecture to classify images of rocks.\n",
        "\n",
        "Currently, NNs are the primary solution to most competitions and technological challenges like self-driving cars, calculating risk, detecting fraud, early cancer detection,…\n",
        "\n",
        "## 1.2. What is a Neural Network?\n",
        "\n",
        "ANNs are inspired by the organic brain, translated to the computer.\n",
        "\n",
        "ANNs have neurons, activations, and interconnectivities.\n",
        "\n",
        "NNs are considered “black boxes” between inputs and outputs.\n",
        "\n",
        "<center><img src='https://raw.githubusercontent.com/zhuwq0/images/main/1-8-basic-nn.png' style='width: 60%'/></center>\n",
        "\n",
        "Each connection between neurons has a weight associated with it. Weights are multiplied by corresponding input values. These multiplications flow into the neuron and are summed before being added with a bias. Weights and biases are trainable or tunable.\n",
        "\n",
        "$$\n",
        "\\begin{aligned}\n",
        "output & = weight \\cdot input + bias \\\\\n",
        "y & = a \\cdot x + b\n",
        "\\end{aligned}\n",
        "$$\n",
        "\n",
        "The formula should look very familiar to you. It is similar to the previous linear regression and classification models.\n",
        "\n",
        "Then, an activation function is applied to the output.\n",
        "\n",
        "$$\n",
        "\\begin{aligned}\n",
        "output & = \\sum (weight \\cdot input) + bias \\\\\n",
        "output & = activation (output)\n",
        "\\end{aligned}\n",
        "$$\n",
        "\n",
        "When a step function that mimics a neuron in the brain (i.e., “firing” or not, on-off switch) is used as an activation function:\n",
        "- If its output is greater than 0, the neuron fires (it would output 1).\n",
        "- If its output is less than 0, the neuron does not fire and would pass along a 0.\n",
        "\n",
        "The input layer represents the actual input data (i.e., pixel values from an image, temperature, …)\n",
        "\n",
        "- The data can be “raw”, should be preprocessed like normalization and scaling.\n",
        "- The input needs to be in numeric form.\n",
        "\n",
        "The output layer is whatever the NN returns.\n",
        "- In regression, the predicted value is a scalar value, the output layer has a single neuron.\n",
        "- In classification, the class of the input is predicted, the output layer has as many neurons as the training dataset has classes. But can also have a single output neuron for binary (two classes) classification.\n",
        "\n",
        "A typical NN has thousands or even up to millions of adjustable parameters (weights and biases).\n",
        "\n",
        "NNs act as enormous functions with vast numbers of parameters.\n",
        "\n",
        "Finding the combination of parameter (weight and bias) values is the challenging part.\n",
        "\n",
        "The end goal for NNs is to adjust their weights and biases (the parameters), so they produce the desired output for unseen data.\n",
        "\n",
        "A major issue in supervised learning is overfitting, where the algorithm doesn’t understand underlying input-output dependencies, just basically “memorizes” the training data.\n",
        "\n",
        "The goal of NN is generalization, that can be obtained when separating the data into training data and validation data.\n",
        "\n",
        "Weights and biases are adjusted based on the error/loss presenting how “wrong” the algorithm in NN predicting the output.\n",
        "\n",
        "NNs can be used for regression (predict a scalar, singular, value), clustering (assigned unstructured data into groups), and many other tasks.\n"
      ]
    },
    {
      "cell_type": "markdown",
      "metadata": {
        "id": "8fOFBptjtApv"
      },
      "source": [
        "If you want to learn more about Deep Learning (Deep Nerual Networks), you can check the [Deep Learning Specialization](https://www.coursera.org/specializations/deep-learning) on Coursera or watch videos on [YouTube](https://youtu.be/CS4cs9xVecg?si=sULZa9qxzaqIX0M5)."
      ]
    },
    {
      "cell_type": "markdown",
      "metadata": {
        "id": "auZ3p0_etApw"
      },
      "source": [
        "In this lecture, we will use PyTorch to build and train neural networks.\n",
        "The pytorch library is a powerful tool for building and training neural networks. It provides a flexible and efficient library for deep learning. It is also currently the most popular library for deep learning.\n",
        "\n",
        "<!-- ![](https://raw.githubusercontent.com/zhuwq0/images/main/pytorch.png)\n",
        "![](https://raw.githubusercontent.com/zhuwq0/images/main/tensorflow.png)\n",
        "![](https://raw.githubusercontent.com/zhuwq0/images/main/jax.png) -->\n",
        "<img src='https://raw.githubusercontent.com/zhuwq0/images/main/pytorch.png' style='width: 20%'/>\n",
        "<img src='https://raw.githubusercontent.com/zhuwq0/images/main/tensorflow.png' style='width: 20%'/>\n",
        "<img src='https://raw.githubusercontent.com/zhuwq0/images/main/jax.png' style='width: 15%'/>\n",
        "\n",
        "Let's import the necessary libraries of PyTorch and other libraries."
      ]
    },
    {
      "cell_type": "code",
      "execution_count": 1,
      "metadata": {
        "id": "WZ3Y_KHvq40x"
      },
      "outputs": [],
      "source": [
        "## First part of this semester\n",
        "import matplotlib.pyplot as plt\n",
        "import numpy as np\n",
        "import pandas as pd\n",
        "\n",
        "## Second part of this semester\n",
        "from sklearn.impute import SimpleImputer\n",
        "from sklearn.metrics import r2_score, accuracy_score, confusion_matrix, ConfusionMatrixDisplay\n",
        "from sklearn.model_selection import train_test_split\n",
        "from sklearn.preprocessing import LabelEncoder\n",
        "\n",
        "## Last part of this semester\n",
        "import torch\n",
        "import torch.nn as nn\n",
        "import torch.nn.functional as F\n",
        "import torch.optim as optim"
      ]
    },
    {
      "cell_type": "code",
      "execution_count": 2,
      "metadata": {
        "id": "D9d6X0ZZq40z"
      },
      "outputs": [],
      "source": [
        "## Set random seed for reproducibility\n",
        "torch.manual_seed(0)\n",
        "torch.cuda.manual_seed(0)\n",
        "np.random.seed(0)"
      ]
    },
    {
      "cell_type": "markdown",
      "metadata": {
        "id": "dAnY8yaDq400"
      },
      "source": [
        "## Applying Neural Networks for Regression\n",
        "\n",
        "In today's lecture, we will revisit the Betoule data and apply neural networks for regression.\n",
        "\n",
        "If you already forgot the background of this data, please review the lecture [04 regression](https://ai4eps.github.io/EPS88_PyEarth/lectures/04_regression/#going-even-further-out-into-the-universe).\n",
        "\n",
        "Remember the challenge of the Betoule data is that the velocity is non-linear with respect to the distance.\n",
        "\n",
        "In the previous lecture, we used sklearn to fit the linear regression model with high polynomial degrees.\n",
        "\n",
        "Here we will use PyTorch to fit the Betoule data and compare the results with the linear regression model."
      ]
    },
    {
      "cell_type": "markdown",
      "metadata": {
        "id": "GGmR3YyutApx"
      },
      "source": [
        "- Load the Betoule data"
      ]
    },
    {
      "cell_type": "code",
      "execution_count": 3,
      "metadata": {
        "id": "ClFxP8yRtApx"
      },
      "outputs": [],
      "source": [
        "## Load the Betoule data\n",
        "# betoule_data = pd.read_csv('data/mu_z.csv',header=1) ## reading from local file\n",
        "betoule_data = pd.read_csv('https://raw.githubusercontent.com/AI4EPS/EPS88_PyEarth/refs/heads/main/docs/scripts/data/mu_z.csv',header=1) ## reading from github for running on colab\n",
        "betoule_data.head()\n",
        "\n",
        "## Apply processing to convert to distance and velocity\n",
        "# speed of light in km/s\n",
        "c = 2.9979e8 / 1000\n",
        "\n",
        "## the formula for v from z (and c)\n",
        "betoule_data['velocity'] = c * (((betoule_data['z']+1.)**2-1.)/((betoule_data['z']+1.)**2+1.))\n",
        "\n",
        "## convert mu to Gpc\n",
        "betoule_data['distance'] = 10000*(10.**((betoule_data['mu'])/5.))*1e-9"
      ]
    },
    {
      "cell_type": "code",
      "execution_count": 4,
      "metadata": {
        "id": "zYe7R6UZtApx",
        "outputId": "3401f5b6-acdd-48aa-8214-3d2df8d1e562",
        "colab": {
          "base_uri": "https://localhost:8080/",
          "height": 108
        }
      },
      "outputs": [
        {
          "output_type": "error",
          "ename": "SyntaxError",
          "evalue": "'(' was never closed (<ipython-input-4-a33faae28047>, line 3)",
          "traceback": [
            "\u001b[0;36m  File \u001b[0;32m\"<ipython-input-4-a33faae28047>\"\u001b[0;36m, line \u001b[0;32m3\u001b[0m\n\u001b[0;31m    plt.scatter(\u001b[0m\n\u001b[0m               ^\u001b[0m\n\u001b[0;31mSyntaxError\u001b[0m\u001b[0;31m:\u001b[0m '(' was never closed\n"
          ]
        }
      ],
      "source": [
        "## Review the data\n",
        "plt.figure()\n",
        "plt.scatter(\n",
        "plt.xlabel('Distance (Mpc)')\n",
        "plt.ylabel('Velocity (km s$^{-1}$)')\n",
        "plt.show()\n"
      ]
    },
    {
      "cell_type": "markdown",
      "metadata": {
        "id": "i6gWtdJhtApx"
      },
      "source": [
        "- Prepare the data into features (X) and target (y). This is same as the previous lecture."
      ]
    },
    {
      "cell_type": "code",
      "execution_count": 6,
      "metadata": {
        "id": "_XA0tn3etApx"
      },
      "outputs": [],
      "source": [
        "## Define features (X) and target (y) variables using the distance as the feature and velocity as the target\n",
        "X = betoule_data[['distance']].values\n",
        "y = betoule_data[['velocity']].values\n",
        "\n",
        "## Split the data into training and test sets using 30% of the data for testing\n",
        "X_train, X_test, y_train, y_test = train_test_split(X, y, test_size=0.3, random_state=41)"
      ]
    },
    {
      "cell_type": "markdown",
      "metadata": {
        "id": "EnpaMjLrtApx"
      },
      "source": [
        "- Let's start to build the first neural network model to fit the Betoule data."
      ]
    },
    {
      "cell_type": "code",
      "execution_count": 7,
      "metadata": {
        "id": "mIV9w3K4tApx",
        "outputId": "a7f9c66b-40f3-4c0f-8308-ef5b12f020a0",
        "colab": {
          "base_uri": "https://localhost:8080/",
          "height": 628
        }
      },
      "outputs": [
        {
          "output_type": "stream",
          "name": "stdout",
          "text": [
            "Epoch [10/100], Loss: 0.0607\n",
            "Epoch [20/100], Loss: 0.0178\n",
            "Epoch [30/100], Loss: 0.0206\n",
            "Epoch [40/100], Loss: 0.0087\n",
            "Epoch [50/100], Loss: 0.0040\n",
            "Epoch [60/100], Loss: 0.0028\n",
            "Epoch [70/100], Loss: 0.0019\n",
            "Epoch [80/100], Loss: 0.0012\n",
            "Epoch [90/100], Loss: 0.0009\n",
            "Epoch [100/100], Loss: 0.0007\n"
          ]
        },
        {
          "output_type": "display_data",
          "data": {
            "text/plain": [
              "<Figure size 640x480 with 1 Axes>"
            ],
            "image/png": "[encoded data removed]"
          },
          "metadata": {}
        }
      ],
      "source": [
        "## Convert data to PyTorch tensors\n",
        "X_train_tensor = torch.tensor(X_train, dtype=torch.float32)\n",
        "y_train_tensor = torch.tensor(y_train, dtype=torch.float32)\n",
        "X_test_tensor = torch.tensor(X_test, dtype=torch.float32)\n",
        "y_test_tensor = torch.tensor(y_test, dtype=torch.float32)\n",
        "\n",
        "## Normalize the data to make the training process more efficient\n",
        "magnitude_X = 10**int(np.log10(X.max()))\n",
        "magnitude_y = 10**int(np.log10(y.max()))\n",
        "X_train_tensor = X_train_tensor / magnitude_X\n",
        "y_train_tensor = y_train_tensor / magnitude_y\n",
        "X_test_tensor = X_test_tensor / magnitude_X\n",
        "y_test_tensor = y_test_tensor / magnitude_y\n",
        "\n",
        "## Define the neural network model\n",
        "class SimpleNN(nn.Module):\n",
        "    def __init__(self, input_size, output_size, hidden_size):\n",
        "        super(SimpleNN, self).__init__()\n",
        "        ## Define the neural network layers\n",
        "        self.fc1 = nn.Linear(input_size, hidden_size)\n",
        "        self.fc2 = nn.Linear(hidden_size, output_size)\n",
        "\n",
        "\n",
        "    def forward(self, x):\n",
        "        ## Apply the neural network layers\n",
        "        x = self.fc1(x)\n",
        "        x = F.relu(x)\n",
        "        x = self.fc2(x)\n",
        "        return x\n",
        "\n",
        "## Define the model dimensions\n",
        "input_size = X.shape[-1]\n",
        "output_size = 1 # Output layer for regression (1 output neuron)\n",
        "hidden_size = 16\n",
        "\n",
        "## Define the model, loss function, and optimizer. Hint: using your defined model, MSE loss, and Adam optimizer\n",
        "\n",
        "model = SimpleNN(input_size, output_size, hidden_size)\n",
        "criterion = nn.MSELoss()\n",
        "optimizer = optim.Adam(model.parameters(), lr=0.1)\n",
        "\n",
        "## Define fit function\n",
        "def fit(model, X, y, epochs=100):\n",
        "    ## set the model to training mode\n",
        "    model.train()\n",
        "    losses = []\n",
        "    for epoch in range(epochs):\n",
        "        ## zero the gradients\n",
        "        optimizer.zero_grad()\n",
        "\n",
        "        ## get the outputs from the model\n",
        "        outputs = model(X)\n",
        "        ## calculate the loss\n",
        "        loss = criterion(outputs, y)\n",
        "        loss.backward()\n",
        "        ## update the weights\n",
        "        optimizer.step()\n",
        "\n",
        "        losses.append(loss.item())\n",
        "        if (epoch+1) % 10 == 0:\n",
        "            print(f'Epoch [{epoch+1}/{epochs}], Loss: {loss.item():.4f}')\n",
        "    return losses\n",
        "\n",
        "## Define predict function\n",
        "def predict(model, X):\n",
        "    ## set the model to evaluation mode\n",
        "    model.eval()\n",
        "    with torch.no_grad():\n",
        "        ## get the outputs from the model\n",
        "        outputs = model(X)\n",
        "    return outputs\n",
        "\n",
        "## Train the model\n",
        "losses = fit(model, X_train_tensor, y_train_tensor, epochs=100)\n",
        "\n",
        "## Plot the loss during the training process\n",
        "plt.figure()\n",
        "plt.plot(losses)\n",
        "plt.xlabel('Epochs')\n",
        "plt.ylabel('Loss')\n",
        "plt.show()\n"
      ]
    },
    {
      "cell_type": "markdown",
      "metadata": {
        "id": "a39Qhf4GtApx"
      },
      "source": [
        "- Evaluate the model on the test set. This is same as the previous lecture."
      ]
    },
    {
      "cell_type": "code",
      "execution_count": 8,
      "metadata": {
        "id": "9Cdn53TStApx",
        "outputId": "d66fd967-9d5f-4d02-8fc2-d1392bd16fb9",
        "colab": {
          "base_uri": "https://localhost:8080/"
        }
      },
      "outputs": [
        {
          "output_type": "stream",
          "name": "stdout",
          "text": [
            "R-squared: 0.9950\n"
          ]
        }
      ],
      "source": [
        "## Predict on the test set\n",
        "y_pred_tensor = predict(model, X_test_tensor)\n",
        "y_pred = y_pred_tensor.numpy() * magnitude_y\n",
        "\n",
        "## Calculate R-squared metric\n",
        "r2 = r2_score(y_test, y_pred)\n",
        "print(f'R-squared: {r2:.4f}')"
      ]
    },
    {
      "cell_type": "code",
      "execution_count": 9,
      "metadata": {
        "colab": {
          "base_uri": "https://localhost:8080/",
          "height": 607
        },
        "id": "35aMo_r2q41G",
        "outputId": "93c5ed78-bfad-49cf-c154-978480a2cbd8",
        "scrolled": true
      },
      "outputs": [
        {
          "output_type": "display_data",
          "data": {
            "text/plain": [
              "<Figure size 600x600 with 2 Axes>"
            ],
            "image/png": "[encoded data removed]"
          },
          "metadata": {}
        }
      ],
      "source": [
        "## Predict on the whole dataset for plotting\n",
        "X_tensor = torch.tensor(X, dtype=torch.float32)\n",
        "X_tensor = X_tensor / magnitude_X\n",
        "y_pred_tensor = predict(model, X_tensor)\n",
        "y_pred = y_pred_tensor.numpy() * magnitude_y\n",
        "y_pred = y_pred.squeeze() # remove the extra dimension\n",
        "\n",
        "## Plot the results\n",
        "plt.figure(figsize=(6, 6))\n",
        "plt.subplot(2,1,1)\n",
        "## plot the data\n",
        "plt.scatter(betoule_data['distance'],betoule_data['velocity'])\n",
        "## plot the fitted line\n",
        "plt.plot(betoule_data['distance'],y_pred,color='orange',)\n",
        "plt.title('data and a nerual network fit')\n",
        "plt.ylabel('Velocity (km s$^{-1}$)')\n",
        "plt.xlabel('Distance (Mpc)')\n",
        "\n",
        "## plot the residuals\n",
        "plt.subplot(2,1,2)\n",
        "plt.scatter(betoule_data['distance'],betoule_data['velocity']-y_pred)\n",
        "plt.title('residuals of a nerual network fit')\n",
        "plt.ylabel('Residual velocity (km s$^{-1}$)')\n",
        "plt.xlabel('Distance (Mpc)')\n",
        "\n",
        "plt.tight_layout()\n",
        "plt.show()\n"
      ]
    },
    {
      "cell_type": "markdown",
      "metadata": {
        "id": "wI6_iAkStApy"
      },
      "source": [
        "- Compare the results with previous polynomial regression. How does the neural network perform?"
      ]
    },
    {
      "cell_type": "markdown",
      "metadata": {
        "id": "iFdWqsNktApy"
      },
      "source": []
    },
    {
      "cell_type": "markdown",
      "metadata": {
        "id": "jpsnS1HDq403"
      },
      "source": [
        "## Applying Neural Networks for Classification\n",
        "\n",
        "Neural networks work well for the regression tasks, how about the classification tasks?\n",
        "\n",
        "Let's continue to apply neural networks for the binary classification task.\n",
        "\n",
        "Again, we will re-use the basalt affinity dataset that we covered in the previous lecture.\n",
        "\n",
        "If you already forgot the background of this data, please review the lecture [05 classification](https://ai4eps.github.io/EPS88_PyEarth/lectures/05_classification/#classifying-volcanic-rocks)."
      ]
    },
    {
      "cell_type": "markdown",
      "metadata": {
        "id": "1JrP-u3vtApy"
      },
      "source": [
        "- Load the basalt affinity data"
      ]
    },
    {
      "cell_type": "code",
      "execution_count": 10,
      "metadata": {
        "id": "CzJ18ICiq404",
        "outputId": "9c641756-6b91-4980-9515-da0f7c6ef40f",
        "colab": {
          "base_uri": "https://localhost:8080/",
          "height": 256
        }
      },
      "outputs": [
        {
          "output_type": "execute_result",
          "data": {
            "text/plain": [
              "    affinity  SiO2_wt_percent  TiO2_wt_percent  Al2O3_wt_percent  \\\n",
              "751      IAB            50.97             0.78             18.86   \n",
              "752      IAB            51.00             1.41             17.06   \n",
              "753      IAB            52.56             1.21             17.74   \n",
              "754      IAB            52.59             1.50             16.88   \n",
              "755      IAB            52.96             1.27             15.65   \n",
              "\n",
              "     Fe2O3_wt_percent  FeO_wt_percent  CaO_wt_percent  MgO_wt_percent  \\\n",
              "751               NaN             NaN           10.85            4.71   \n",
              "752              3.80            7.04            9.97            4.96   \n",
              "753              2.28            7.53           10.48            5.57   \n",
              "754              2.41            7.90           10.83            4.91   \n",
              "755              2.91            9.32            9.78            4.24   \n",
              "\n",
              "     MnO_wt_percent  K2O_wt_percent  ...  Hf_ppm  Ta_ppm  Pb_ppm  Th_ppm  \\\n",
              "751            0.16            0.60  ...     NaN     NaN     NaN     NaN   \n",
              "752            0.17            0.73  ...     NaN     NaN     NaN     NaN   \n",
              "753            0.24            0.29  ...     NaN     NaN     NaN     NaN   \n",
              "754            0.26            0.54  ...     NaN     NaN     NaN     NaN   \n",
              "755            0.23            0.46  ...     NaN     NaN     NaN     NaN   \n",
              "\n",
              "     U_ppm  143Nd/144Nd  87Sr/86Sr  206Pb/204Pb  207Pb/204Pb  208Pb/204Pb  \n",
              "751    NaN          NaN        NaN        18.82       15.556       38.389  \n",
              "752    NaN          NaN    0.70348          NaN          NaN          NaN  \n",
              "753    NaN          NaN    0.70362          NaN          NaN          NaN  \n",
              "754    NaN          NaN    0.70363          NaN          NaN          NaN  \n",
              "755    NaN          NaN    0.70352          NaN          NaN          NaN  \n",
              "\n",
              "[5 rows x 52 columns]"
            ],
            "text/html": [
              "\n",
              "  <div id=\"df-3b9ec5c5-6751-41e5-b05d-54394a4a2550\" class=\"colab-df-container\">\n",
              "    <div>\n",
              "<style scoped>\n",
              "    .dataframe tbody tr th:only-of-type {\n",
              "        vertical-align: middle;\n",
              "    }\n",
              "\n",
              "    .dataframe tbody tr th {\n",
              "        vertical-align: top;\n",
              "    }\n",
              "\n",
              "    .dataframe thead th {\n",
              "        text-align: right;\n",
              "    }\n",
              "</style>\n",
              "<table border=\"1\" class=\"dataframe\">\n",
              "  <thead>\n",
              "    <tr style=\"text-align: right;\">\n",
              "      <th></th>\n",
              "      <th>affinity</th>\n",
              "      <th>SiO2_wt_percent</th>\n",
              "      <th>TiO2_wt_percent</th>\n",
              "      <th>Al2O3_wt_percent</th>\n",
              "      <th>Fe2O3_wt_percent</th>\n",
              "      <th>FeO_wt_percent</th>\n",
              "      <th>CaO_wt_percent</th>\n",
              "      <th>MgO_wt_percent</th>\n",
              "      <th>MnO_wt_percent</th>\n",
              "      <th>K2O_wt_percent</th>\n",
              "      <th>...</th>\n",
              "      <th>Hf_ppm</th>\n",
              "      <th>Ta_ppm</th>\n",
              "      <th>Pb_ppm</th>\n",
              "      <th>Th_ppm</th>\n",
              "      <th>U_ppm</th>\n",
              "      <th>143Nd/144Nd</th>\n",
              "      <th>87Sr/86Sr</th>\n",
              "      <th>206Pb/204Pb</th>\n",
              "      <th>207Pb/204Pb</th>\n",
              "      <th>208Pb/204Pb</th>\n",
              "    </tr>\n",
              "  </thead>\n",
              "  <tbody>\n",
              "    <tr>\n",
              "      <th>751</th>\n",
              "      <td>IAB</td>\n",
              "      <td>50.97</td>\n",
              "      <td>0.78</td>\n",
              "      <td>18.86</td>\n",
              "      <td>NaN</td>\n",
              "      <td>NaN</td>\n",
              "      <td>10.85</td>\n",
              "      <td>4.71</td>\n",
              "      <td>0.16</td>\n",
              "      <td>0.60</td>\n",
              "      <td>...</td>\n",
              "      <td>NaN</td>\n",
              "      <td>NaN</td>\n",
              "      <td>NaN</td>\n",
              "      <td>NaN</td>\n",
              "      <td>NaN</td>\n",
              "      <td>NaN</td>\n",
              "      <td>NaN</td>\n",
              "      <td>18.82</td>\n",
              "      <td>15.556</td>\n",
              "      <td>38.389</td>\n",
              "    </tr>\n",
              "    <tr>\n",
              "      <th>752</th>\n",
              "      <td>IAB</td>\n",
              "      <td>51.00</td>\n",
              "      <td>1.41</td>\n",
              "      <td>17.06</td>\n",
              "      <td>3.80</td>\n",
              "      <td>7.04</td>\n",
              "      <td>9.97</td>\n",
              "      <td>4.96</td>\n",
              "      <td>0.17</td>\n",
              "      <td>0.73</td>\n",
              "      <td>...</td>\n",
              "      <td>NaN</td>\n",
              "      <td>NaN</td>\n",
              "      <td>NaN</td>\n",
              "      <td>NaN</td>\n",
              "      <td>NaN</td>\n",
              "      <td>NaN</td>\n",
              "      <td>0.70348</td>\n",
              "      <td>NaN</td>\n",
              "      <td>NaN</td>\n",
              "      <td>NaN</td>\n",
              "    </tr>\n",
              "    <tr>\n",
              "      <th>753</th>\n",
              "      <td>IAB</td>\n",
              "      <td>52.56</td>\n",
              "      <td>1.21</td>\n",
              "      <td>17.74</td>\n",
              "      <td>2.28</td>\n",
              "      <td>7.53</td>\n",
              "      <td>10.48</td>\n",
              "      <td>5.57</td>\n",
              "      <td>0.24</td>\n",
              "      <td>0.29</td>\n",
              "      <td>...</td>\n",
              "      <td>NaN</td>\n",
              "      <td>NaN</td>\n",
              "      <td>NaN</td>\n",
              "      <td>NaN</td>\n",
              "      <td>NaN</td>\n",
              "      <td>NaN</td>\n",
              "      <td>0.70362</td>\n",
              "      <td>NaN</td>\n",
              "      <td>NaN</td>\n",
              "      <td>NaN</td>\n",
              "    </tr>\n",
              "    <tr>\n",
              "      <th>754</th>\n",
              "      <td>IAB</td>\n",
              "      <td>52.59</td>\n",
              "      <td>1.50</td>\n",
              "      <td>16.88</td>\n",
              "      <td>2.41</td>\n",
              "      <td>7.90</td>\n",
              "      <td>10.83</td>\n",
              "      <td>4.91</td>\n",
              "      <td>0.26</td>\n",
              "      <td>0.54</td>\n",
              "      <td>...</td>\n",
              "      <td>NaN</td>\n",
              "      <td>NaN</td>\n",
              "      <td>NaN</td>\n",
              "      <td>NaN</td>\n",
              "      <td>NaN</td>\n",
              "      <td>NaN</td>\n",
              "      <td>0.70363</td>\n",
              "      <td>NaN</td>\n",
              "      <td>NaN</td>\n",
              "      <td>NaN</td>\n",
              "    </tr>\n",
              "    <tr>\n",
              "      <th>755</th>\n",
              "      <td>IAB</td>\n",
              "      <td>52.96</td>\n",
              "      <td>1.27</td>\n",
              "      <td>15.65</td>\n",
              "      <td>2.91</td>\n",
              "      <td>9.32</td>\n",
              "      <td>9.78</td>\n",
              "      <td>4.24</td>\n",
              "      <td>0.23</td>\n",
              "      <td>0.46</td>\n",
              "      <td>...</td>\n",
              "      <td>NaN</td>\n",
              "      <td>NaN</td>\n",
              "      <td>NaN</td>\n",
              "      <td>NaN</td>\n",
              "      <td>NaN</td>\n",
              "      <td>NaN</td>\n",
              "      <td>0.70352</td>\n",
              "      <td>NaN</td>\n",
              "      <td>NaN</td>\n",
              "      <td>NaN</td>\n",
              "    </tr>\n",
              "  </tbody>\n",
              "</table>\n",
              "<p>5 rows × 52 columns</p>\n",
              "</div>\n",
              "    <div class=\"colab-df-buttons\">\n",
              "\n",
              "  <div class=\"colab-df-container\">\n",
              "    <button class=\"colab-df-convert\" onclick=\"convertToInteractive('df-3b9ec5c5-6751-41e5-b05d-54394a4a2550')\"\n",
              "            title=\"Convert this dataframe to an interactive table.\"\n",
              "            style=\"display:none;\">\n",
              "\n",
              "  <svg xmlns=\"http://www.w3.org/2000/svg\" height=\"24px\" viewBox=\"0 -960 960 960\">\n",
              "    <path d=\"M120-120v-720h720v720H120Zm60-500h600v-160H180v160Zm220 220h160v-160H400v160Zm0 220h160v-160H400v160ZM180-400h160v-160H180v160Zm440 0h160v-160H620v160ZM180-180h160v-160H180v160Zm440 0h160v-160H620v160Z\"/>\n",
              "  </svg>\n",
              "    </button>\n",
              "\n",
              "  <style>\n",
              "    .colab-df-container {\n",
              "      display:flex;\n",
              "      gap: 12px;\n",
              "    }\n",
              "\n",
              "    .colab-df-convert {\n",
              "      background-color: #E8F0FE;\n",
              "      border: none;\n",
              "      border-radius: 50%;\n",
              "      cursor: pointer;\n",
              "      display: none;\n",
              "      fill: #1967D2;\n",
              "      height: 32px;\n",
              "      padding: 0 0 0 0;\n",
              "      width: 32px;\n",
              "    }\n",
              "\n",
              "    .colab-df-convert:hover {\n",
              "      background-color: #E2EBFA;\n",
              "      box-shadow: 0px 1px 2px rgba(60, 64, 67, 0.3), 0px 1px 3px 1px rgba(60, 64, 67, 0.15);\n",
              "      fill: #174EA6;\n",
              "    }\n",
              "\n",
              "    .colab-df-buttons div {\n",
              "      margin-bottom: 4px;\n",
              "    }\n",
              "\n",
              "    [theme=dark] .colab-df-convert {\n",
              "      background-color: #3B4455;\n",
              "      fill: #D2E3FC;\n",
              "    }\n",
              "\n",
              "    [theme=dark] .colab-df-convert:hover {\n",
              "      background-color: #434B5C;\n",
              "      box-shadow: 0px 1px 3px 1px rgba(0, 0, 0, 0.15);\n",
              "      filter: drop-shadow(0px 1px 2px rgba(0, 0, 0, 0.3));\n",
              "      fill: #FFFFFF;\n",
              "    }\n",
              "  </style>\n",
              "\n",
              "    <script>\n",
              "      const buttonEl =\n",
              "        document.querySelector('#df-3b9ec5c5-6751-41e5-b05d-54394a4a2550 button.colab-df-convert');\n",
              "      buttonEl.style.display =\n",
              "        google.colab.kernel.accessAllowed ? 'block' : 'none';\n",
              "\n",
              "      async function convertToInteractive(key) {\n",
              "        const element = document.querySelector('#df-3b9ec5c5-6751-41e5-b05d-54394a4a2550');\n",
              "        const dataTable =\n",
              "          await google.colab.kernel.invokeFunction('convertToInteractive',\n",
              "                                                    [key], {});\n",
              "        if (!dataTable) return;\n",
              "\n",
              "        const docLinkHtml = 'Like what you see? Visit the ' +\n",
              "          '<a target=\"_blank\" href=https://colab.research.google.com/notebooks/data_table.ipynb>data table notebook</a>'\n",
              "          + ' to learn more about interactive tables.';\n",
              "        element.innerHTML = '';\n",
              "        dataTable['output_type'] = 'display_data';\n",
              "        await google.colab.output.renderOutput(dataTable, element);\n",
              "        const docLink = document.createElement('div');\n",
              "        docLink.innerHTML = docLinkHtml;\n",
              "        element.appendChild(docLink);\n",
              "      }\n",
              "    </script>\n",
              "  </div>\n",
              "\n",
              "\n",
              "<div id=\"df-7776504e-0a6f-4daf-aa4a-1ee40c3be81d\">\n",
              "  <button class=\"colab-df-quickchart\" onclick=\"quickchart('df-7776504e-0a6f-4daf-aa4a-1ee40c3be81d')\"\n",
              "            title=\"Suggest charts\"\n",
              "            style=\"display:none;\">\n",
              "\n",
              "<svg xmlns=\"http://www.w3.org/2000/svg\" height=\"24px\"viewBox=\"0 0 24 24\"\n",
              "     width=\"24px\">\n",
              "    <g>\n",
              "        <path d=\"M19 3H5c-1.1 0-2 .9-2 2v14c0 1.1.9 2 2 2h14c1.1 0 2-.9 2-2V5c0-1.1-.9-2-2-2zM9 17H7v-7h2v7zm4 0h-2V7h2v10zm4 0h-2v-4h2v4z\"/>\n",
              "    </g>\n",
              "</svg>\n",
              "  </button>\n",
              "\n",
              "<style>\n",
              "  .colab-df-quickchart {\n",
              "      --bg-color: #E8F0FE;\n",
              "      --fill-color: #1967D2;\n",
              "      --hover-bg-color: #E2EBFA;\n",
              "      --hover-fill-color: #174EA6;\n",
              "      --disabled-fill-color: #AAA;\n",
              "      --disabled-bg-color: #DDD;\n",
              "  }\n",
              "\n",
              "  [theme=dark] .colab-df-quickchart {\n",
              "      --bg-color: #3B4455;\n",
              "      --fill-color: #D2E3FC;\n",
              "      --hover-bg-color: #434B5C;\n",
              "      --hover-fill-color: #FFFFFF;\n",
              "      --disabled-bg-color: #3B4455;\n",
              "      --disabled-fill-color: #666;\n",
              "  }\n",
              "\n",
              "  .colab-df-quickchart {\n",
              "    background-color: var(--bg-color);\n",
              "    border: none;\n",
              "    border-radius: 50%;\n",
              "    cursor: pointer;\n",
              "    display: none;\n",
              "    fill: var(--fill-color);\n",
              "    height: 32px;\n",
              "    padding: 0;\n",
              "    width: 32px;\n",
              "  }\n",
              "\n",
              "  .colab-df-quickchart:hover {\n",
              "    background-color: var(--hover-bg-color);\n",
              "    box-shadow: 0 1px 2px rgba(60, 64, 67, 0.3), 0 1px 3px 1px rgba(60, 64, 67, 0.15);\n",
              "    fill: var(--button-hover-fill-color);\n",
              "  }\n",
              "\n",
              "  .colab-df-quickchart-complete:disabled,\n",
              "  .colab-df-quickchart-complete:disabled:hover {\n",
              "    background-color: var(--disabled-bg-color);\n",
              "    fill: var(--disabled-fill-color);\n",
              "    box-shadow: none;\n",
              "  }\n",
              "\n",
              "  .colab-df-spinner {\n",
              "    border: 2px solid var(--fill-color);\n",
              "    border-color: transparent;\n",
              "    border-bottom-color: var(--fill-color);\n",
              "    animation:\n",
              "      spin 1s steps(1) infinite;\n",
              "  }\n",
              "\n",
              "  @keyframes spin {\n",
              "    0% {\n",
              "      border-color: transparent;\n",
              "      border-bottom-color: var(--fill-color);\n",
              "      border-left-color: var(--fill-color);\n",
              "    }\n",
              "    20% {\n",
              "      border-color: transparent;\n",
              "      border-left-color: var(--fill-color);\n",
              "      border-top-color: var(--fill-color);\n",
              "    }\n",
              "    30% {\n",
              "      border-color: transparent;\n",
              "      border-left-color: var(--fill-color);\n",
              "      border-top-color: var(--fill-color);\n",
              "      border-right-color: var(--fill-color);\n",
              "    }\n",
              "    40% {\n",
              "      border-color: transparent;\n",
              "      border-right-color: var(--fill-color);\n",
              "      border-top-color: var(--fill-color);\n",
              "    }\n",
              "    60% {\n",
              "      border-color: transparent;\n",
              "      border-right-color: var(--fill-color);\n",
              "    }\n",
              "    80% {\n",
              "      border-color: transparent;\n",
              "      border-right-color: var(--fill-color);\n",
              "      border-bottom-color: var(--fill-color);\n",
              "    }\n",
              "    90% {\n",
              "      border-color: transparent;\n",
              "      border-bottom-color: var(--fill-color);\n",
              "    }\n",
              "  }\n",
              "</style>\n",
              "\n",
              "  <script>\n",
              "    async function quickchart(key) {\n",
              "      const quickchartButtonEl =\n",
              "        document.querySelector('#' + key + ' button');\n",
              "      quickchartButtonEl.disabled = true;  // To prevent multiple clicks.\n",
              "      quickchartButtonEl.classList.add('colab-df-spinner');\n",
              "      try {\n",
              "        const charts = await google.colab.kernel.invokeFunction(\n",
              "            'suggestCharts', [key], {});\n",
              "      } catch (error) {\n",
              "        console.error('Error during call to suggestCharts:', error);\n",
              "      }\n",
              "      quickchartButtonEl.classList.remove('colab-df-spinner');\n",
              "      quickchartButtonEl.classList.add('colab-df-quickchart-complete');\n",
              "    }\n",
              "    (() => {\n",
              "      let quickchartButtonEl =\n",
              "        document.querySelector('#df-7776504e-0a6f-4daf-aa4a-1ee40c3be81d button');\n",
              "      quickchartButtonEl.style.display =\n",
              "        google.colab.kernel.accessAllowed ? 'block' : 'none';\n",
              "    })();\n",
              "  </script>\n",
              "</div>\n",
              "\n",
              "    </div>\n",
              "  </div>\n"
            ],
            "application/vnd.google.colaboratory.intrinsic+json": {
              "type": "dataframe"
            }
          },
          "metadata": {},
          "execution_count": 10
        }
      ],
      "source": [
        "## Load the basalt affinity data\n",
        "# basalt_data = pd.read_csv('data/Vermeesch2006.csv') ## reading from local file\n",
        "basalt_data = pd.read_csv('https://raw.githubusercontent.com/AI4EPS/EPS88_PyEarth/refs/heads/main/docs/scripts/data/Vermeesch2006.csv') ## reading from github for running on colab\n",
        "basalt_data.tail()"
      ]
    },
    {
      "cell_type": "code",
      "execution_count": 11,
      "metadata": {
        "id": "X2insyvLtApy",
        "outputId": "295563ca-98fb-4fbe-f5c3-211ba998cbd5",
        "colab": {
          "base_uri": "https://localhost:8080/",
          "height": 542
        }
      },
      "outputs": [
        {
          "output_type": "display_data",
          "data": {
            "text/plain": [
              "<Figure size 800x600 with 1 Axes>"
            ],
            "image/png": "[encoded data removed]"
          },
          "metadata": {}
        }
      ],
      "source": [
        "## Review the data\n",
        "plt.figure(figsize=(8, 6))\n",
        "\n",
        "## plot each affinity as a different color\n",
        "for affinity in basalt_data['affinity'].unique():\n",
        "    subset = basalt_data[basalt_data['affinity'] == affinity]\n",
        "    plt.scatter(subset['TiO2_wt_percent'], subset['V_ppm'], label=affinity, edgecolor='k', s=50)\n",
        "\n",
        "plt.legend()\n",
        "plt.xlabel('TiO2 (wt%)')\n",
        "plt.ylabel('V (ppm)')\n",
        "plt.show()\n"
      ]
    },
    {
      "cell_type": "markdown",
      "metadata": {
        "id": "QGUhCdCBtApy"
      },
      "source": [
        "- Prepare the data into features (X) and target (y). This is same as the previous lecture."
      ]
    },
    {
      "cell_type": "code",
      "execution_count": 15,
      "metadata": {
        "colab": {
          "base_uri": "https://localhost:8080/"
        },
        "id": "2DdtOvQuq406",
        "outputId": "acbde905-db4e-40cb-8622-1a165f0a7fc4",
        "scrolled": true
      },
      "outputs": [
        {
          "output_type": "execute_result",
          "data": {
            "text/plain": [
              "torch.Size([21, 1])"
            ]
          },
          "metadata": {},
          "execution_count": 15
        }
      ],
      "source": [
        "## Prepare the data into features (X) and target (y)\n",
        "X = basalt_data.drop('affinity', axis=1)\n",
        "y = basalt_data['affinity']\n",
        "\n",
        "## Encode the target variable\n",
        "le = LabelEncoder()\n",
        "le.fit(y)\n",
        "y = le.transform(y)\n",
        "\n",
        "## Impute missing values using median imputation\n",
        "imputer = SimpleImputer(strategy='median')\n",
        "X = imputer.fit_transform(X)\n",
        "\n",
        "## Split the data into training and test sets using 30% of the data for testing\n",
        "X_train, X_test, y_train, y_test = train_test_split(X, y, test_size=0.3, random_state=41)\n",
        "X_train_tensor.shape\n"
      ]
    },
    {
      "cell_type": "markdown",
      "metadata": {
        "id": "yeeTK8GUtApy"
      },
      "source": [
        "- Let's start to build the second neural network model to fit the basalt affinity data."
      ]
    },
    {
      "cell_type": "code",
      "execution_count": 16,
      "metadata": {
        "id": "puOPJo1TtApy",
        "outputId": "cf45a1e6-f936-4186-ba99-bd022e5649c9",
        "colab": {
          "base_uri": "https://localhost:8080/",
          "height": 628
        }
      },
      "outputs": [
        {
          "output_type": "stream",
          "name": "stdout",
          "text": [
            "Epoch [10/100], Loss: 0.1224\n",
            "Epoch [20/100], Loss: 0.0299\n",
            "Epoch [30/100], Loss: 0.0067\n",
            "Epoch [40/100], Loss: 0.0016\n",
            "Epoch [50/100], Loss: 0.0008\n",
            "Epoch [60/100], Loss: 0.0005\n",
            "Epoch [70/100], Loss: 0.0003\n",
            "Epoch [80/100], Loss: 0.0003\n",
            "Epoch [90/100], Loss: 0.0002\n",
            "Epoch [100/100], Loss: 0.0002\n"
          ]
        },
        {
          "output_type": "display_data",
          "data": {
            "text/plain": [
              "<Figure size 640x480 with 1 Axes>"
            ],
            "image/png": "[encoded data removed]"
          },
          "metadata": {}
        }
      ],
      "source": [
        "## Convert data to PyTorch tensors\n",
        "X_train_tensor = torch.tensor(X_train, dtype=torch.float32)\n",
        "y_train_tensor = torch.tensor(y_train, dtype=torch.long)\n",
        "X_test_tensor = torch.tensor(X_test, dtype=torch.float32)\n",
        "y_test_tensor = torch.tensor(y_test, dtype=torch.long)\n",
        "\n",
        "## Normalize the data to make the training process more efficient\n",
        "mu = X_train_tensor.mean(dim=0, keepdim=True)\n",
        "std = X_train_tensor.std(dim=0, keepdim=True)\n",
        "X_train_tensor = (X_train_tensor - mu) / std\n",
        "X_test_tensor = (X_test_tensor - mu) / std\n",
        "\n",
        "## Define the neural network model\n",
        "class SimpleNN(nn.Module):\n",
        "    def __init__(self, input_size,  output_size, hidden_size):\n",
        "        super(SimpleNN, self).__init__()\n",
        "        ## Define the neural network layers\n",
        "        self.fc1 = nn.Linear(input_size, hidden_size)\n",
        "        self.fc2 = nn.Linear(hidden_size, output_size)\n",
        "\n",
        "\n",
        "    def forward(self, x):\n",
        "        ## Apply the neural network layers\n",
        "        x = self.fc1(x)\n",
        "        x = F.relu(x)\n",
        "        x = self.fc2(x)\n",
        "        return x\n",
        "\n",
        "## Initialize the model, loss function, and optimizer\n",
        "input_size = X_train.shape[-1]\n",
        "output_size = len(le.classes_) # Output layer for classification (number of classes)\n",
        "hidden_size = 16\n",
        "\n",
        "## Define the model, loss function, and optimizer. Hint: using your defined model, CrossEntropy loss, and Adam optimizer\n",
        "model = SimpleNN(input_size, output_size, hidden_size)\n",
        "criterion = nn.CrossEntropyLoss()\n",
        "optimizer = optim.Adam(model.parameters(), lr=0.1)\n",
        "\n",
        "## Define fit function\n",
        "def fit(model, X_train, y_train, epochs=100):\n",
        "    ## set the model to training mode\n",
        "    model.train()\n",
        "    losses = []\n",
        "    for epoch in range(epochs):\n",
        "        ## zero the gradients\n",
        "        optimizer.zero_grad()\n",
        "\n",
        "        ## get the outputs from the model\n",
        "        outputs = model(X_train)\n",
        "        ## calculate the loss\n",
        "        loss = criterion(outputs, y_train)\n",
        "        loss.backward()\n",
        "        ## update the weights\n",
        "        optimizer.step()\n",
        "\n",
        "        losses.append(loss.item())\n",
        "        if (epoch+1) % 10 == 0:\n",
        "            print(f'Epoch [{epoch+1}/{epochs}], Loss: {loss.item():.4f}')\n",
        "    return losses\n",
        "\n",
        "## Define predict function\n",
        "def predict(model, X):\n",
        "    ## set the model to evaluation mode\n",
        "    model.eval()\n",
        "    with torch.no_grad():\n",
        "        ## get the outputs from the model\n",
        "        outputs = model(X)\n",
        "        _, predicted = torch.max(outputs, 1)\n",
        "    return predicted\n",
        "\n",
        "## Train the model\n",
        "losses = fit(model, X_train_tensor, y_train_tensor, epochs=100)\n",
        "\n",
        "## Plot the loss\n",
        "plt.figure()\n",
        "plt.plot(losses)\n",
        "plt.xlabel('Epochs')\n",
        "plt.ylabel('Loss')\n",
        "plt.show()\n"
      ]
    },
    {
      "cell_type": "markdown",
      "metadata": {
        "id": "rohwh7Ugq41C"
      },
      "source": [
        "- Evaluate the model on the test set. This is same as the previous lecture."
      ]
    },
    {
      "cell_type": "code",
      "execution_count": 17,
      "metadata": {
        "id": "D_6w-9nTtApy",
        "outputId": "71bd2db6-06e0-4f87-a5d0-646712bf3166",
        "colab": {
          "base_uri": "https://localhost:8080/",
          "height": 467
        }
      },
      "outputs": [
        {
          "output_type": "stream",
          "name": "stdout",
          "text": [
            "Accuracy: 0.9075\n"
          ]
        },
        {
          "output_type": "display_data",
          "data": {
            "text/plain": [
              "<Figure size 640x480 with 1 Axes>"
            ],
            "image/png": "[encoded data removed]"
          },
          "metadata": {}
        }
      ],
      "source": [
        "## Predict on the test set\n",
        "y_pred_tensor = predict(model, X_test_tensor)\n",
        "y_pred = y_pred_tensor.numpy()\n",
        "\n",
        "## Calculate accuracy\n",
        "accuracy = accuracy_score(y_test, y_pred)\n",
        "print(f'Accuracy: {accuracy:.4f}')\n",
        "\n",
        "## Confusion matrix; Hint: use confusion_matrix from sklearn.metrics\n",
        "conf_matrix = confusion_matrix(y_test, y_pred)\n",
        "disp = ConfusionMatrixDisplay(confusion_matrix=conf_matrix, display_labels=le.classes_)\n",
        "disp.plot(cmap=plt.cm.Blues, values_format='d', colorbar=False);"
      ]
    },
    {
      "cell_type": "markdown",
      "metadata": {
        "id": "cKmGcX87tApy"
      },
      "source": [
        "- Compare the results with previous classification methods. How does the neural network perform?"
      ]
    },
    {
      "cell_type": "markdown",
      "metadata": {
        "id": "XXhijXd2tApy"
      },
      "source": []
    },
    {
      "cell_type": "markdown",
      "metadata": {
        "id": "QFru61cQtApy"
      },
      "source": [
        "- Compare the two neural networks built for the regression and classification tasks. Please list the similarities and differences."
      ]
    },
    {
      "cell_type": "markdown",
      "metadata": {
        "id": "dCvtMapxtApy"
      },
      "source": []
    },
    {
      "cell_type": "markdown",
      "metadata": {
        "id": "v2LsyGEXtApy"
      },
      "source": [
        "- The neural networks we built are very simple with only one hidden layer. Do you know which variable controls the complexity of the neural networks?"
      ]
    },
    {
      "cell_type": "markdown",
      "metadata": {
        "id": "_6H4EihgtApy"
      },
      "source": []
    },
    {
      "cell_type": "markdown",
      "metadata": {
        "id": "oD1bjHCytApy"
      },
      "source": [
        "- If we want to build a more complex neural network, how can we do it? Think about the number of layers and neurons in each layer.\n"
      ]
    },
    {
      "cell_type": "markdown",
      "metadata": {
        "id": "W6qrxW1ytApy"
      },
      "source": []
    },
    {
      "cell_type": "markdown",
      "metadata": {
        "id": "h2Z7LBzaq41P"
      },
      "source": [
        "If you are interested to build a more complex neural network, you can try the following website.\n",
        "\n",
        "The more layers and neurons you add, the more complex the neural network becomes, it can fit more complex data, while in the meantime, it is also more challenging to train.\n",
        "\n",
        "There are many hyperparameters you can tune in the online playgroud. Explore if we can find the parameters that can fit all the data distributions.\n",
        "\n",
        "[Train a neural network online](https://playground.tensorflow.org/#activation=tanh&batchSize=10&dataset=circle&regDataset=reg-plane&learningRate=0.03&regularizationRate=0&noise=0&networkShape=4,2&seed=0.43783&showTestData=false&discretize=false&percTrainData=50&x=true&y=true&xTimesY=false&xSquared=false&ySquared=false&cosX=false&sinX=false&cosY=false&sinY=false&collectStats=false&problem=classification&initZero=false&hideText=false)\n",
        "\n",
        "<!-- ![20241103200049](https://raw.githubusercontent.com/zhuwq0/images/main/20241103200049.png) -->\n",
        "<img src='https://raw.githubusercontent.com/zhuwq0/images/main/20241103200049.png' style='width: 80%'/>"
      ]
    }
  ],
  "metadata": {
    "colab": {
      "provenance": []
    },
    "kernelspec": {
      "display_name": "Python 3",
      "language": "python",
      "name": "python3"
    },
    "language_info": {
      "codemirror_mode": {
        "name": "ipython",
        "version": 3
      },
      "file_extension": ".py",
      "mimetype": "text/x-python",
      "name": "python",
      "nbconvert_exporter": "python",
      "pygments_lexer": "ipython3",
      "version": "3.10.15"
    }
  },
  "nbformat": 4,
  "nbformat_minor": 0
}