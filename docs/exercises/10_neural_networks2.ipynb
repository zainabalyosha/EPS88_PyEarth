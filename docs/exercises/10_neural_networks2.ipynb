{
  "cells": [
    {
      "cell_type": "markdown",
      "metadata": {
        "id": "DJsUjs19_v63"
      },
      "source": [
        "<!-- # MNIST with SciKit-Learn and PyTroch -->\n",
        "# Neural Networks with PyTorch\n",
        "\n",
        "<a target=\"_blank\" href=\"https://colab.research.google.com/github/AI4EPS/EPS88_PyEarth/blob/master/docs/exercises/10_neural_networks2.ipynb\">\n",
        "<img src=\"https://www.tensorflow.org/images/colab_logo_32px.png\" />Run in Google Colab</a>  \n"
      ]
    },
    {
      "cell_type": "markdown",
      "metadata": {
        "id": "-zmIlvxI_v68"
      },
      "source": [
        "**Note**: If you are running this in [a colab notebook](https://colab.research.google.com/github/skorch-dev/skorch/blob/master/notebooks/MNIST.ipynb), we recommend you enable a free GPU by going:\n",
        "\n",
        "> **Runtime**   →   **Change runtime type**   →   **Hardware Accelerator: GPU**\n"
      ]
    },
    {
      "cell_type": "markdown",
      "metadata": {
        "id": "xEGVrT0qBmla"
      },
      "source": [
        "This notebooks shows how to define and train a simple modern Neural Network with PyTorch.\n",
        "\n",
        "We will use the MNIST dataset, which is a dataset of 60,000 28x28 grayscale images of the 10 digits, along with a test set of 10,000 images.\n",
        "\n",
        "The dateaset is very popular and is often used as a \"Hello World\" example in the field of Machine Learning. It is a good dataset to start with, as it is small and easy to work with.\n",
        "\n",
        "For this small dataset, we will use the socalled \"LeNet\" architecture is used here. It is a simple convolutional neural network, which was introduced by Yann LeCun in 1998. It is a simple and effective architecture for small image datasets.\n",
        "You can read more about the model on [Wikipedia](https://en.wikipedia.org/wiki/LeNet).\n",
        "\n",
        "<!-- ![](https://raw.githubusercontent.com/zhuwq0/images/main/lenet.png) -->\n",
        "<img src=\"https://raw.githubusercontent.com/zhuwq0/images/main/lenet.png\" width=\"50%\">\n",
        "\n"
      ]
    },
    {
      "cell_type": "code",
      "execution_count": 49,
      "metadata": {
        "id": "Gj0pvjxT_v7G"
      },
      "outputs": [],
      "source": [
        "import numpy as np\n",
        "import matplotlib.pyplot as plt\n",
        "from sklearn.datasets import fetch_openml\n",
        "from sklearn.model_selection import train_test_split\n",
        "from sklearn.metrics import accuracy_score, confusion_matrix, ConfusionMatrixDisplay\n",
        "import torch\n",
        "from torch import nn\n",
        "import torch.nn.functional as F\n",
        "import torch.optim as optim\n",
        "from torch.utils.data import DataLoader, TensorDataset\n",
        "from tqdm import tqdm"
      ]
    },
    {
      "cell_type": "code",
      "execution_count": 50,
      "metadata": {
        "id": "4qzLbruGBmlb"
      },
      "outputs": [],
      "source": [
        "## Set random seed\n",
        "torch.manual_seed(0)\n",
        "torch.cuda.manual_seed(0)\n",
        "np.random.seed(0)"
      ]
    },
    {
      "cell_type": "markdown",
      "metadata": {
        "id": "mPz6Bjqw_v7H"
      },
      "source": [
        "## Loading Data\n",
        "Using SciKit-Learns ```fetch_openml``` to load MNIST data."
      ]
    },
    {
      "cell_type": "markdown",
      "metadata": {
        "id": "jbzZMFHqBmlb"
      },
      "source": [
        "Each image of the MNIST dataset is encoded in a 784 dimensional vector, representing a 28 x 28 pixel image.\n",
        "\n",
        "Each pixel has a value between 0 and 255, corresponding to the grey-value of a pixel.\n"
      ]
    },
    {
      "cell_type": "code",
      "execution_count": 51,
      "metadata": {
        "id": "mwpfASvc_v7J"
      },
      "outputs": [],
      "source": [
        "mnist = fetch_openml('mnist_784', as_frame=False)"
      ]
    },
    {
      "cell_type": "code",
      "execution_count": 52,
      "metadata": {
        "colab": {
          "base_uri": "https://localhost:8080/"
        },
        "id": "9Pt2JKyb_v7K",
        "outputId": "8f3f4882-85bf-4097-974a-ba001fa1853c"
      },
      "outputs": [
        {
          "output_type": "stream",
          "name": "stdout",
          "text": [
            "MNIST data shape: (70000, 784), data type: int64\n",
            "MNIST target shape: (70000,), target type: object\n"
          ]
        }
      ],
      "source": [
        "print(f\"MNIST data shape: {mnist.data.shape}, data type: {mnist.data.dtype}\")\n",
        "print(f\"MNIST target shape: {mnist.target.shape}, target type: {mnist.target.dtype}\")"
      ]
    },
    {
      "cell_type": "markdown",
      "metadata": {
        "id": "sV0ehb52_v7L"
      },
      "source": [
        "## Preprocessing Data\n",
        "\n",
        "The above ```featch_mldata``` method to load MNIST returns ```data``` and ```target``` as ```uint8``` which we convert to ```float32``` and ```int64``` respectively.\n",
        "\n",
        "To avoid big weights that deal with the pixel values from between [0, 255], we scale `X` down. A commonly used range is [0, 1].\n"
      ]
    },
    {
      "cell_type": "code",
      "execution_count": 53,
      "metadata": {
        "id": "F2v_Fwne_v7M",
        "colab": {
          "base_uri": "https://localhost:8080/"
        },
        "outputId": "90d1def6-1322-47bc-83db-6d7595ff40ac"
      },
      "outputs": [
        {
          "output_type": "stream",
          "name": "stdout",
          "text": [
            "X.min() = 0.0, X.max() = 1.0\n"
          ]
        }
      ],
      "source": [
        "## Make sure the data is float32 and the labels are int64\n",
        "X = mnist.data.astype('float32')\n",
        "y = mnist.target.astype('int64')\n",
        "\n",
        "## Normalize the data to [0, 1]. Hint: the raw pixel values are in [0, 255].\n",
        "X /= 255.0\n",
        "print(f\"{X.min() = }, {X.max() = }\")"
      ]
    },
    {
      "cell_type": "markdown",
      "metadata": {
        "id": "K0ZeG2lrBmlc"
      },
      "source": [
        "Same as prevoious lectures, let split the data into training and testing sets."
      ]
    },
    {
      "cell_type": "code",
      "execution_count": 54,
      "metadata": {
        "id": "gILlsHJS_v7R"
      },
      "outputs": [],
      "source": [
        "## Split data into training and testing sets using 30% of the data for testing and random seed 42\n",
        "X_train, X_test, y_train, y_test = train_test_split(X, y, test_size=0.3, random_state=42)"
      ]
    },
    {
      "cell_type": "markdown",
      "metadata": {
        "id": "6EKEvbuP_v7c"
      },
      "source": [
        "### Visualize a selection of training images and their labels\n"
      ]
    },
    {
      "cell_type": "code",
      "execution_count": 55,
      "metadata": {
        "id": "C9muXJPC_v7d"
      },
      "outputs": [],
      "source": [
        "## Define a function to plot a selection of images and their labels\n",
        "def plot_example(X, y, n_samples=10):\n",
        "    \"\"\"Plot the first n_samples images and their labels in a row.\"\"\"\n",
        "    fig, axes = plt.subplots(1, n_samples, figsize=(2*n_samples, 4))\n",
        "    for i, ax in enumerate(axes):\n",
        "        ax.imshow(X[i].reshape(28, 28), cmap='gray')\n",
        "        ax.set_title(y[i], fontsize=32)\n",
        "        ax.axis('off')\n",
        "    plt.tight_layout()\n",
        "    plt.show()"
      ]
    },
    {
      "cell_type": "code",
      "execution_count": 56,
      "metadata": {
        "colab": {
          "base_uri": "https://localhost:8080/",
          "height": 213
        },
        "id": "h2-R1-Df_v7e",
        "outputId": "bd4afa6b-7fb2-47d7-b11b-804323baf568"
      },
      "outputs": [
        {
          "output_type": "display_data",
          "data": {
            "text/plain": [
              "<Figure size 2000x400 with 10 Axes>"
            ],
            "image/png": "[encoded data removed]"
          },
          "metadata": {}
        }
      ],
      "source": [
        "## Plot the first 10 images from the training set\n",
        "plot_example(X_train, y_train, n_samples=10)"
      ]
    },
    {
      "cell_type": "markdown",
      "metadata": {
        "id": "YQvC-rWf_v7f"
      },
      "source": [
        "## Build Neural Network with PyTorch\n",
        "\n",
        "In the previous lecture, we have built a simple fully connected neural network with one hidden layer for both linear regression and classification tasks. Let's first try a similar network for the classification task of MNIST.\n",
        "\n",
        "Note the dataset is much larger than our previous examples, so we need to adjust the network size accordingly.\n",
        "(It is still tiny compared to modern standards)\n",
        "\n",
        "Let's think about the network architecture:\n",
        "\n",
        "- Input layer: 784 dimensions (28x28). This is defined by the MNIST data shape.\n",
        "- Hidden layer: 98 (= 784 / 8). This is a free parameter that we can choose.\n",
        "- Output layer: 10 neurons, representing digits 0 - 9. This is defined by the number of classes in the dataset."
      ]
    },
    {
      "cell_type": "markdown",
      "metadata": {
        "id": "lsivG84EBmlc"
      },
      "source": [
        "- Prepare the data for training and testing"
      ]
    },
    {
      "cell_type": "code",
      "execution_count": 57,
      "metadata": {
        "id": "TvQdhvKXBmlc"
      },
      "outputs": [],
      "source": [
        "## Convert data to PyTorch tensors\n",
        "X_train_tensor = torch.tensor(X_train, dtype=torch.float32)\n",
        "y_train_tensor = torch.tensor(y_train, dtype=torch.int64)\n",
        "X_test_tensor = torch.tensor(X_test, dtype=torch.float32)\n",
        "y_test_tensor = torch.tensor(y_test, dtype=torch.int64)"
      ]
    },
    {
      "cell_type": "markdown",
      "metadata": {
        "id": "OeVnFhBS_v7i"
      },
      "source": [
        "- Build a simple fully connected neural network in PyTorch's framework."
      ]
    },
    {
      "cell_type": "code",
      "execution_count": 58,
      "metadata": {
        "id": "ZK-NZbctBmlc"
      },
      "outputs": [],
      "source": [
        "## Define the network architecture: A simple fully connected neural network\n",
        "class FCN(nn.Module):\n",
        "    def __init__(\n",
        "            self,\n",
        "            input_dim=28*28,\n",
        "            hidden_dim=28*4,\n",
        "            output_dim=10,\n",
        "            dropout=0.5,\n",
        "    ):\n",
        "        super(FCN, self).__init__()\n",
        "        ## Define the neural network layers\n",
        "        self.fc1 = nn.Linear(input_dim, hidden_dim)\n",
        "        self.fc2 = nn.Linear(hidden_dim, output_dim)\n",
        "        self.dropout = nn.Dropout(dropout)\n",
        "\n",
        "    def forward(self, x, **kwargs):\n",
        "        ## Apply the neural network layers\n",
        "        x = self.fc1(x)\n",
        "        x = F.relu(x)\n",
        "        x = self.dropout(x)\n",
        "        x = self.fc2(x)\n",
        "        return x"
      ]
    },
    {
      "cell_type": "code",
      "execution_count": 59,
      "metadata": {
        "colab": {
          "base_uri": "https://localhost:8080/",
          "height": 985
        },
        "id": "0pIrIVVkBmlc",
        "outputId": "16d874b4-be0f-4a1f-eb4b-6d94a8fb53a4"
      },
      "outputs": [
        {
          "output_type": "stream",
          "name": "stderr",
          "text": [
            "Training Epoch 1/15: 100%|██████████| 382/382 [00:01<00:00, 337.36it/s]\n"
          ]
        },
        {
          "output_type": "stream",
          "name": "stdout",
          "text": [
            "Epoch 1/15: Loss: 0.6219\n"
          ]
        },
        {
          "output_type": "stream",
          "name": "stderr",
          "text": [
            "Training Epoch 2/15: 100%|██████████| 382/382 [00:01<00:00, 335.83it/s]\n"
          ]
        },
        {
          "output_type": "stream",
          "name": "stdout",
          "text": [
            "Epoch 2/15: Loss: 0.3236\n"
          ]
        },
        {
          "output_type": "stream",
          "name": "stderr",
          "text": [
            "Training Epoch 3/15: 100%|██████████| 382/382 [00:01<00:00, 260.21it/s]\n"
          ]
        },
        {
          "output_type": "stream",
          "name": "stdout",
          "text": [
            "Epoch 3/15: Loss: 0.2650\n"
          ]
        },
        {
          "output_type": "stream",
          "name": "stderr",
          "text": [
            "Training Epoch 4/15: 100%|██████████| 382/382 [00:01<00:00, 273.34it/s]\n"
          ]
        },
        {
          "output_type": "stream",
          "name": "stdout",
          "text": [
            "Epoch 4/15: Loss: 0.2337\n"
          ]
        },
        {
          "output_type": "stream",
          "name": "stderr",
          "text": [
            "Training Epoch 5/15: 100%|██████████| 382/382 [00:01<00:00, 344.88it/s]\n"
          ]
        },
        {
          "output_type": "stream",
          "name": "stdout",
          "text": [
            "Epoch 5/15: Loss: 0.2142\n"
          ]
        },
        {
          "output_type": "stream",
          "name": "stderr",
          "text": [
            "Training Epoch 6/15: 100%|██████████| 382/382 [00:01<00:00, 343.87it/s]\n"
          ]
        },
        {
          "output_type": "stream",
          "name": "stdout",
          "text": [
            "Epoch 6/15: Loss: 0.1970\n"
          ]
        },
        {
          "output_type": "stream",
          "name": "stderr",
          "text": [
            "Training Epoch 7/15: 100%|██████████| 382/382 [00:01<00:00, 347.20it/s]\n"
          ]
        },
        {
          "output_type": "stream",
          "name": "stdout",
          "text": [
            "Epoch 7/15: Loss: 0.1834\n"
          ]
        },
        {
          "output_type": "stream",
          "name": "stderr",
          "text": [
            "Training Epoch 8/15: 100%|██████████| 382/382 [00:01<00:00, 345.72it/s]\n"
          ]
        },
        {
          "output_type": "stream",
          "name": "stdout",
          "text": [
            "Epoch 8/15: Loss: 0.1724\n"
          ]
        },
        {
          "output_type": "stream",
          "name": "stderr",
          "text": [
            "Training Epoch 9/15: 100%|██████████| 382/382 [00:01<00:00, 344.87it/s]\n"
          ]
        },
        {
          "output_type": "stream",
          "name": "stdout",
          "text": [
            "Epoch 9/15: Loss: 0.1627\n"
          ]
        },
        {
          "output_type": "stream",
          "name": "stderr",
          "text": [
            "Training Epoch 10/15: 100%|██████████| 382/382 [00:01<00:00, 343.29it/s]\n"
          ]
        },
        {
          "output_type": "stream",
          "name": "stdout",
          "text": [
            "Epoch 10/15: Loss: 0.1550\n"
          ]
        },
        {
          "output_type": "stream",
          "name": "stderr",
          "text": [
            "Training Epoch 11/15: 100%|██████████| 382/382 [00:01<00:00, 344.55it/s]\n"
          ]
        },
        {
          "output_type": "stream",
          "name": "stdout",
          "text": [
            "Epoch 11/15: Loss: 0.1508\n"
          ]
        },
        {
          "output_type": "stream",
          "name": "stderr",
          "text": [
            "Training Epoch 12/15: 100%|██████████| 382/382 [00:01<00:00, 342.82it/s]\n"
          ]
        },
        {
          "output_type": "stream",
          "name": "stdout",
          "text": [
            "Epoch 12/15: Loss: 0.1434\n"
          ]
        },
        {
          "output_type": "stream",
          "name": "stderr",
          "text": [
            "Training Epoch 13/15: 100%|██████████| 382/382 [00:01<00:00, 300.71it/s]\n"
          ]
        },
        {
          "output_type": "stream",
          "name": "stdout",
          "text": [
            "Epoch 13/15: Loss: 0.1434\n"
          ]
        },
        {
          "output_type": "stream",
          "name": "stderr",
          "text": [
            "Training Epoch 14/15: 100%|██████████| 382/382 [00:01<00:00, 255.99it/s]\n"
          ]
        },
        {
          "output_type": "stream",
          "name": "stdout",
          "text": [
            "Epoch 14/15: Loss: 0.1387\n"
          ]
        },
        {
          "output_type": "stream",
          "name": "stderr",
          "text": [
            "Training Epoch 15/15: 100%|██████████| 382/382 [00:01<00:00, 298.54it/s]\n"
          ]
        },
        {
          "output_type": "stream",
          "name": "stdout",
          "text": [
            "Epoch 15/15: Loss: 0.1326\n"
          ]
        },
        {
          "output_type": "display_data",
          "data": {
            "text/plain": [
              "<Figure size 640x480 with 1 Axes>"
            ],
            "image/png": "[encoded data removed]"
          },
          "metadata": {}
        }
      ],
      "source": [
        "## Define the model dimensions\n",
        "mnist_dim = X.shape[1]\n",
        "hidden_dim = int(mnist_dim/8)\n",
        "output_dim = len(np.unique(mnist.target))\n",
        "\n",
        "## Define the model, loss function, and optimizer\n",
        "model = FCN(input_dim=mnist_dim, hidden_dim=hidden_dim, output_dim=output_dim)\n",
        "criterion = nn.CrossEntropyLoss()\n",
        "optimizer = optim.Adam(model.parameters(), lr=0.001)\n",
        "\n",
        "## Define the device to choose the fastest for training\n",
        "## MPS for Apple Silicon, CUDA for NVidia GPUs, and CPU otherwise\n",
        "device = 'mps' if torch.backends.mps.is_available() else 'cuda' if torch.cuda.is_available() else 'cpu'\n",
        "\n",
        "## Define fit function\n",
        "def fit(model, X_train, y_train, epochs=100):\n",
        "    dataloader = DataLoader(dataset=TensorDataset(X_train, y_train), batch_size=128, shuffle=True, drop_last=True)\n",
        "    model.to(device)\n",
        "\n",
        "    ## set the model to training mode\n",
        "    model.train()\n",
        "    losses = []\n",
        "    for epoch in range(epochs):\n",
        "        loss = 0\n",
        "        for X_train, y_train in tqdm(dataloader, desc=f'Training Epoch {epoch+1}/{epochs}'):\n",
        "            X_train = X_train.to(device)\n",
        "            y_train = y_train.to(device)\n",
        "            ## zero the gradients\n",
        "            optimizer.zero_grad()\n",
        "\n",
        "            ## get the model predictions\n",
        "            outputs = model(X_train)\n",
        "            ## calculate the loss\n",
        "            batch_loss = criterion(outputs, y_train)\n",
        "            batch_loss.backward()\n",
        "            ## update the weights\n",
        "            optimizer.step()\n",
        "\n",
        "            loss += batch_loss.item()\n",
        "\n",
        "        # average loss per batch\n",
        "        loss = loss / len(dataloader)\n",
        "        losses.append(loss)\n",
        "\n",
        "        print(f'Epoch {epoch+1}/{epochs}: Loss: {loss:.4f}')\n",
        "\n",
        "    return losses\n",
        "\n",
        "## Define predict function\n",
        "def predict(model, X):\n",
        "    dataloader = DataLoader(dataset=TensorDataset(X), batch_size=128, drop_last=False)\n",
        "    ## set the model to evaluation mode\n",
        "    model.eval()\n",
        "    device = next(model.parameters()).device\n",
        "    with torch.no_grad():\n",
        "        predicted = []\n",
        "        for X, in tqdm(dataloader, desc='Predicting'):\n",
        "            X = X.to(device)\n",
        "\n",
        "            ## get the model predictions\n",
        "            outputs = model(X)\n",
        "\n",
        "            _, predicted_batch = torch.max(outputs, 1)\n",
        "            predicted.append(predicted_batch.cpu())\n",
        "    return torch.cat(predicted)\n",
        "\n",
        "## Train the model\n",
        "losses = fit(model, X_train_tensor, y_train_tensor, epochs=15)\n",
        "\n",
        "## Plot the loss\n",
        "plt.figure()\n",
        "plt.plot(losses)\n",
        "plt.xlabel('Epochs')\n",
        "plt.ylabel('Loss')\n",
        "plt.show()"
      ]
    },
    {
      "cell_type": "markdown",
      "metadata": {
        "id": "E8W1QCqrBmlc"
      },
      "source": [
        "- Evaluate the model on the test set. This is same as the previous lecture."
      ]
    },
    {
      "cell_type": "code",
      "execution_count": 60,
      "metadata": {
        "colab": {
          "base_uri": "https://localhost:8080/",
          "height": 485
        },
        "id": "PVkdNIewBmlc",
        "outputId": "ac633421-65fd-4f51-9dfd-f081af9e8a48"
      },
      "outputs": [
        {
          "output_type": "stream",
          "name": "stderr",
          "text": [
            "Predicting: 100%|██████████| 165/165 [00:00<00:00, 883.89it/s]\n"
          ]
        },
        {
          "output_type": "stream",
          "name": "stdout",
          "text": [
            "Accuracy: 0.9703\n"
          ]
        },
        {
          "output_type": "display_data",
          "data": {
            "text/plain": [
              "<Figure size 640x480 with 1 Axes>"
            ],
            "image/png": "[encoded data removed]"
          },
          "metadata": {}
        }
      ],
      "source": [
        "## Predict on the test set\n",
        "y_pred_tensor = predict(model, X_test_tensor)\n",
        "y_pred = y_pred_tensor.numpy()\n",
        "\n",
        "## Calculate accuracy\n",
        "accuracy = accuracy_score(y_test, y_pred)\n",
        "print(f'Accuracy: {accuracy:.4f}')\n",
        "\n",
        "## Confusion matrix\n",
        "conf_matrix = confusion_matrix(y_test, y_pred)\n",
        "disp = ConfusionMatrixDisplay(confusion_matrix=conf_matrix, display_labels=np.arange(len(np.unique(y))))\n",
        "disp.plot(cmap=plt.cm.Blues, values_format='d', colorbar=False);"
      ]
    },
    {
      "cell_type": "markdown",
      "metadata": {
        "id": "0eRga6AV_v7o"
      },
      "source": [
        "What accuracy did you get? Is it above 95%?"
      ]
    },
    {
      "cell_type": "markdown",
      "metadata": {
        "id": "TY1NjOucBmlc"
      },
      "source": [
        "**Yes, i got around 97%, an accuracy of above 95% for a network with only one hidden layer is not too bad. **"
      ]
    },
    {
      "cell_type": "markdown",
      "metadata": {
        "id": "d4uEFG4nBmlc"
      },
      "source": [
        "An accuracy of above 95% for a network with only one hidden layer is not too bad.\n",
        "\n",
        "Let's take a look at some predictions that went wrong:"
      ]
    },
    {
      "cell_type": "code",
      "execution_count": 61,
      "metadata": {
        "id": "XddXR1_a_v7p",
        "colab": {
          "base_uri": "https://localhost:8080/",
          "height": 213
        },
        "outputId": "f8908049-02a9-4d11-ba60-da6669fd6c73"
      },
      "outputs": [
        {
          "output_type": "display_data",
          "data": {
            "text/plain": [
              "<Figure size 2000x400 with 10 Axes>"
            ],
            "image/png": "[encoded data removed]"
          },
          "metadata": {}
        }
      ],
      "source": [
        "error_mask_fcn = y_pred != y_test\n",
        "plot_example(X_test[error_mask_fcn], y_pred[error_mask_fcn], n_samples=10)"
      ]
    },
    {
      "cell_type": "markdown",
      "metadata": {
        "id": "x_YBqKRuBmlc"
      },
      "source": [
        "Are these errors reasonable?"
      ]
    },
    {
      "cell_type": "markdown",
      "metadata": {
        "id": "WjVYB8nfBmlc"
      },
      "source": [
        "No, the numbers dont match the pictures."
      ]
    },
    {
      "cell_type": "markdown",
      "metadata": {
        "id": "I2GsBaxH_v7r"
      },
      "source": [
        "# Convolutional Network\n",
        "\n",
        "To further improve the performance, let's try a convolutional neural network (CNN) for MNIST.\n",
        "\n",
        "The 2D convolutional layer expects a 4 dimensional tensor as input. The dimensions represent:\n",
        "* Batch size\n",
        "* Number of channel\n",
        "* Height\n",
        "* Width\n",
        "\n",
        "So we need to reshape the MNIST data to have the right shape.\n",
        "MNIST data has only one channel. As stated above, each MNIST vector represents a 28x28 pixel image. Hence, the resulting shape for PyTorch tensor needs to be (x, 1, 28, 28)."
      ]
    },
    {
      "cell_type": "markdown",
      "metadata": {
        "id": "Dno3l-08Bmld"
      },
      "source": [
        "- Prepare the data for training and testing"
      ]
    },
    {
      "cell_type": "code",
      "execution_count": 62,
      "metadata": {
        "id": "-Vrp4RLBBmld"
      },
      "outputs": [],
      "source": [
        "## Convert data to PyTorch tensors and reshape to 4D tensor (batch_size, channel, height, width)\n",
        "X_train_tensor = torch.tensor(X_train, dtype=torch.float32).reshape(-1, 1, 28, 28)\n",
        "X_test_tensor = torch.tensor(X_test, dtype=torch.float32).reshape(-1, 1, 28, 28)\n",
        "y_train_tensor = torch.tensor(y_train, dtype=torch.int64)\n",
        "y_test_tensor = torch.tensor(y_test, dtype=torch.int64)"
      ]
    },
    {
      "cell_type": "markdown",
      "metadata": {
        "id": "c7XPpQdrBmld"
      },
      "source": [
        "- Build a simple convolutional neural network in PyTorch's framework.\n"
      ]
    },
    {
      "cell_type": "code",
      "execution_count": 63,
      "metadata": {
        "id": "YdQ-ISvb_v7u"
      },
      "outputs": [],
      "source": [
        "## Define the network architecture: A simple convolutional neural network\n",
        "class CNN(nn.Module):\n",
        "    def __init__(self, input_dim=28*28, hidden_dim=112, output_dim=10, dropout=0.5):\n",
        "        super(CNN, self).__init__()\n",
        "        ## Define the neural network layers\n",
        "        self.conv1 = nn.Conv2d(1, 32, kernel_size=3)\n",
        "        self.conv2 = nn.Conv2d(32, 64, kernel_size=3)\n",
        "        self.conv1_drop = nn.Dropout2d(p=dropout)\n",
        "        self.conv2_drop = nn.Dropout2d(p=dropout)\n",
        "        num_features = 64 * int((input_dim**0.5 // 4 - 2)**2)\n",
        "        self.fc1 = nn.Linear(num_features, hidden_dim) # 1600 = number channels * width * height\n",
        "        self.fc2 = nn.Linear(hidden_dim, output_dim)\n",
        "        self.fc1_drop = nn.Dropout(p=dropout)\n",
        "\n",
        "    def forward(self, x):\n",
        "\n",
        "        ## convolutional layers\n",
        "        x = self.conv1(x)\n",
        "        x = F.relu(x)\n",
        "        x = F.max_pool2d(x, 2)\n",
        "        x = self.conv1_drop(x)\n",
        "\n",
        "        ## convolutional layers\n",
        "        x = self.conv2(x)\n",
        "        x = F.relu(x)\n",
        "        x = F.max_pool2d(x, 2)\n",
        "        x = self.conv2_drop(x)\n",
        "\n",
        "        ## flatten over channel, height and width\n",
        "        x = x.view(x.size(0), -1)\n",
        "\n",
        "        ## fully connected layers\n",
        "        x = self.fc1(x)\n",
        "        x = F.relu(x)\n",
        "        x = self.fc1_drop(x)\n",
        "        x = self.fc2(x)\n",
        "\n",
        "        return x"
      ]
    },
    {
      "cell_type": "code",
      "execution_count": 64,
      "metadata": {
        "colab": {
          "base_uri": "https://localhost:8080/",
          "height": 985
        },
        "id": "GYM1xlpZBmld",
        "outputId": "e9f290d3-dfb6-4390-f25d-bb9e0639be03"
      },
      "outputs": [
        {
          "output_type": "stream",
          "name": "stderr",
          "text": [
            "Training Epoch 1/15: 100%|██████████| 382/382 [00:01<00:00, 228.48it/s]\n"
          ]
        },
        {
          "output_type": "stream",
          "name": "stdout",
          "text": [
            "Epoch 1/15: Loss: 0.5881\n"
          ]
        },
        {
          "output_type": "stream",
          "name": "stderr",
          "text": [
            "Training Epoch 2/15: 100%|██████████| 382/382 [00:01<00:00, 246.85it/s]\n"
          ]
        },
        {
          "output_type": "stream",
          "name": "stdout",
          "text": [
            "Epoch 2/15: Loss: 0.2137\n"
          ]
        },
        {
          "output_type": "stream",
          "name": "stderr",
          "text": [
            "Training Epoch 3/15: 100%|██████████| 382/382 [00:01<00:00, 241.60it/s]\n"
          ]
        },
        {
          "output_type": "stream",
          "name": "stdout",
          "text": [
            "Epoch 3/15: Loss: 0.1663\n"
          ]
        },
        {
          "output_type": "stream",
          "name": "stderr",
          "text": [
            "Training Epoch 4/15: 100%|██████████| 382/382 [00:01<00:00, 245.10it/s]\n"
          ]
        },
        {
          "output_type": "stream",
          "name": "stdout",
          "text": [
            "Epoch 4/15: Loss: 0.1428\n"
          ]
        },
        {
          "output_type": "stream",
          "name": "stderr",
          "text": [
            "Training Epoch 5/15: 100%|██████████| 382/382 [00:01<00:00, 225.50it/s]\n"
          ]
        },
        {
          "output_type": "stream",
          "name": "stdout",
          "text": [
            "Epoch 5/15: Loss: 0.1268\n"
          ]
        },
        {
          "output_type": "stream",
          "name": "stderr",
          "text": [
            "Training Epoch 6/15: 100%|██████████| 382/382 [00:02<00:00, 187.47it/s]\n"
          ]
        },
        {
          "output_type": "stream",
          "name": "stdout",
          "text": [
            "Epoch 6/15: Loss: 0.1148\n"
          ]
        },
        {
          "output_type": "stream",
          "name": "stderr",
          "text": [
            "Training Epoch 7/15: 100%|██████████| 382/382 [00:01<00:00, 238.02it/s]\n"
          ]
        },
        {
          "output_type": "stream",
          "name": "stdout",
          "text": [
            "Epoch 7/15: Loss: 0.1095\n"
          ]
        },
        {
          "output_type": "stream",
          "name": "stderr",
          "text": [
            "Training Epoch 8/15: 100%|██████████| 382/382 [00:01<00:00, 249.07it/s]\n"
          ]
        },
        {
          "output_type": "stream",
          "name": "stdout",
          "text": [
            "Epoch 8/15: Loss: 0.1004\n"
          ]
        },
        {
          "output_type": "stream",
          "name": "stderr",
          "text": [
            "Training Epoch 9/15: 100%|██████████| 382/382 [00:01<00:00, 242.30it/s]\n"
          ]
        },
        {
          "output_type": "stream",
          "name": "stdout",
          "text": [
            "Epoch 9/15: Loss: 0.1014\n"
          ]
        },
        {
          "output_type": "stream",
          "name": "stderr",
          "text": [
            "Training Epoch 10/15: 100%|██████████| 382/382 [00:01<00:00, 245.91it/s]\n"
          ]
        },
        {
          "output_type": "stream",
          "name": "stdout",
          "text": [
            "Epoch 10/15: Loss: 0.0957\n"
          ]
        },
        {
          "output_type": "stream",
          "name": "stderr",
          "text": [
            "Training Epoch 11/15: 100%|██████████| 382/382 [00:01<00:00, 247.82it/s]\n"
          ]
        },
        {
          "output_type": "stream",
          "name": "stdout",
          "text": [
            "Epoch 11/15: Loss: 0.0888\n"
          ]
        },
        {
          "output_type": "stream",
          "name": "stderr",
          "text": [
            "Training Epoch 12/15: 100%|██████████| 382/382 [00:01<00:00, 245.79it/s]\n"
          ]
        },
        {
          "output_type": "stream",
          "name": "stdout",
          "text": [
            "Epoch 12/15: Loss: 0.0858\n"
          ]
        },
        {
          "output_type": "stream",
          "name": "stderr",
          "text": [
            "Training Epoch 13/15: 100%|██████████| 382/382 [00:01<00:00, 213.49it/s]\n"
          ]
        },
        {
          "output_type": "stream",
          "name": "stdout",
          "text": [
            "Epoch 13/15: Loss: 0.0837\n"
          ]
        },
        {
          "output_type": "stream",
          "name": "stderr",
          "text": [
            "Training Epoch 14/15: 100%|██████████| 382/382 [00:01<00:00, 198.02it/s]\n"
          ]
        },
        {
          "output_type": "stream",
          "name": "stdout",
          "text": [
            "Epoch 14/15: Loss: 0.0834\n"
          ]
        },
        {
          "output_type": "stream",
          "name": "stderr",
          "text": [
            "Training Epoch 15/15: 100%|██████████| 382/382 [00:01<00:00, 247.04it/s]\n"
          ]
        },
        {
          "output_type": "stream",
          "name": "stdout",
          "text": [
            "Epoch 15/15: Loss: 0.0797\n"
          ]
        },
        {
          "output_type": "display_data",
          "data": {
            "text/plain": [
              "<Figure size 640x480 with 1 Axes>"
            ],
            "image/png": "[encoded data removed]"
          },
          "metadata": {}
        }
      ],
      "source": [
        "## Define model dimensions\n",
        "mnist_dim = X.shape[1]\n",
        "hidden_dim = int(mnist_dim/8)\n",
        "output_dim = len(np.unique(mnist.target))\n",
        "\n",
        "## Define the model, loss function, and optimizer\n",
        "model = CNN(input_dim=mnist_dim, hidden_dim=hidden_dim, output_dim=output_dim)\n",
        "criterion = nn.CrossEntropyLoss()\n",
        "optimizer = optim.Adam(model.parameters(), lr=0.001)\n",
        "\n",
        "\n",
        "\n",
        "## Define the device to choose the fastest for training\n",
        "## MPS for Apple Silicon, CUDA for NVidia GPUs, and CPU otherwise\n",
        "device = 'mps' if torch.backends.mps.is_available() else 'cuda' if torch.cuda.is_available() else 'cpu'\n",
        "\n",
        "## Define fit function\n",
        "def fit(model, X_train, y_train, epochs=100):\n",
        "\n",
        "    dataloader = DataLoader(dataset=TensorDataset(X_train, y_train), batch_size=128, shuffle=True, drop_last=True)\n",
        "    model.to(device)\n",
        "\n",
        "    ## set the model to training mode\n",
        "    model.train()\n",
        "    losses = []\n",
        "    for epoch in range(epochs):\n",
        "        loss = 0\n",
        "        for X_train, y_train in tqdm(dataloader, desc=f'Training Epoch {epoch+1}/{epochs}'):\n",
        "            X_train = X_train.to(device)\n",
        "            y_train = y_train.to(device)\n",
        "            ## zero the gradients\n",
        "            optimizer.zero_grad()\n",
        "\n",
        "            ## get the model predictions\n",
        "            outputs = model(X_train)\n",
        "            ## calculate the loss\n",
        "            batch_loss = criterion(outputs, y_train)\n",
        "            ## update the weights\n",
        "            batch_loss.backward()\n",
        "            optimizer.step()\n",
        "\n",
        "            loss += batch_loss.item()\n",
        "\n",
        "        # average loss per batch\n",
        "        loss = loss / len(dataloader)\n",
        "        losses.append(loss)\n",
        "\n",
        "        print(f'Epoch {epoch+1}/{epochs}: Loss: {loss:.4f}')\n",
        "\n",
        "    return losses\n",
        "\n",
        "## Define predict function\n",
        "def predict(model, X):\n",
        "\n",
        "    dataloader = DataLoader(dataset=TensorDataset(X), batch_size=128, drop_last=False)\n",
        "\n",
        "    ## set the model to evaluation mode\n",
        "    model.eval()\n",
        "    device = next(model.parameters()).device\n",
        "    with torch.no_grad():\n",
        "        predicted = []\n",
        "        for X, in tqdm(dataloader, desc='Predicting'):\n",
        "            X = X.to(device)\n",
        "\n",
        "            ## get the model predictions\n",
        "            outputs = model(X)\n",
        "\n",
        "            _, predicted_batch = torch.max(outputs, 1)\n",
        "            predicted.append(predicted_batch.cpu())\n",
        "    return torch.cat(predicted)\n",
        "\n",
        "## Train the model\n",
        "losses = fit(model, X_train_tensor, y_train_tensor, epochs=15)\n",
        "\n",
        "## Plot the loss\n",
        "plt.figure()\n",
        "plt.plot(losses)\n",
        "plt.xlabel('Epochs')\n",
        "plt.ylabel('Loss')\n",
        "plt.show()"
      ]
    },
    {
      "cell_type": "code",
      "execution_count": 65,
      "metadata": {
        "colab": {
          "base_uri": "https://localhost:8080/",
          "height": 485
        },
        "id": "2w5yS1uxBmld",
        "outputId": "e7c52332-94ad-4aa8-f3c6-1ae00c28ceb6"
      },
      "outputs": [
        {
          "output_type": "stream",
          "name": "stderr",
          "text": [
            "Predicting: 100%|██████████| 165/165 [00:00<00:00, 585.15it/s]\n"
          ]
        },
        {
          "output_type": "stream",
          "name": "stdout",
          "text": [
            "Accuracy: 0.9881\n"
          ]
        },
        {
          "output_type": "display_data",
          "data": {
            "text/plain": [
              "<Figure size 640x480 with 1 Axes>"
            ],
            "image/png": "[encoded data removed]"
          },
          "metadata": {}
        }
      ],
      "source": [
        "## Predict on the test set\n",
        "y_pred_tensor = predict(model, X_test_tensor)\n",
        "y_pred = y_pred_tensor.numpy()\n",
        "\n",
        "## Calculate accuracy\n",
        "accuracy = accuracy_score(y_test, y_pred)\n",
        "print(f'Accuracy: {accuracy:.4f}')\n",
        "\n",
        "## Confusion matrix\n",
        "conf_matrix = confusion_matrix(y_test, y_pred)\n",
        "disp = ConfusionMatrixDisplay(confusion_matrix=conf_matrix, display_labels=np.arange(len(np.unique(y))))\n",
        "disp.plot(cmap=plt.cm.Blues, values_format='d', colorbar=False);"
      ]
    },
    {
      "cell_type": "markdown",
      "metadata": {
        "id": "gRDrxaa2Bmld"
      },
      "source": [
        "- What accuracy did you get? Is it better than the fully connected network?"
      ]
    },
    {
      "cell_type": "markdown",
      "metadata": {
        "id": "FGmwVF6iBmld"
      },
      "source": [
        "**I got around 99%, which is a great percentage and better than the fully connected network since it is higher.**"
      ]
    },
    {
      "cell_type": "markdown",
      "metadata": {
        "id": "53smCrSWBmlf"
      },
      "source": [
        "An accuracy of >98% should suffice for this example!\n",
        "\n",
        "Let's take a look at some predictions that went wrong:"
      ]
    },
    {
      "cell_type": "code",
      "execution_count": 66,
      "metadata": {
        "colab": {
          "base_uri": "https://localhost:8080/",
          "height": 213
        },
        "id": "x7mkqSyyBmlg",
        "outputId": "d2056fc9-2970-4b67-bf16-bf6e338c0ea8"
      },
      "outputs": [
        {
          "output_type": "display_data",
          "data": {
            "text/plain": [
              "<Figure size 2000x400 with 10 Axes>"
            ],
            "image/png": "[encoded data removed]"
          },
          "metadata": {}
        }
      ],
      "source": [
        "error_mask_cnn = y_pred != y_test\n",
        "plot_example(X_test[error_mask_cnn], y_pred[error_mask_cnn], n_samples=10)"
      ]
    },
    {
      "cell_type": "markdown",
      "metadata": {
        "id": "npZlem33_v7v"
      },
      "source": [
        "- Let's further look at the accuracy of the convolutional network model (CNN) on the misclassified examples previously by the fully connected network (FCN)."
      ]
    },
    {
      "cell_type": "code",
      "execution_count": 67,
      "metadata": {
        "colab": {
          "base_uri": "https://localhost:8080/"
        },
        "id": "2oWL0xGC_v7w",
        "outputId": "fc8cd315-fa87-4298-8ea4-6c6146dabb10"
      },
      "outputs": [
        {
          "output_type": "stream",
          "name": "stdout",
          "text": [
            "Accuracy: 0.6982\n"
          ]
        }
      ],
      "source": [
        "accuracy = accuracy_score(y_test[error_mask_fcn], y_pred[error_mask_fcn])\n",
        "print(f\"Accuracy: {accuracy:.4f}\")"
      ]
    },
    {
      "cell_type": "markdown",
      "metadata": {
        "id": "8239U9fF_v7w"
      },
      "source": [
        "About 70% of the previously misclassified images are now correctly identified.\n",
        "\n",
        "Let's take a look at some of the misclassified examples before:"
      ]
    },
    {
      "cell_type": "code",
      "execution_count": 68,
      "metadata": {
        "colab": {
          "base_uri": "https://localhost:8080/",
          "height": 213
        },
        "id": "5vU1SXeV_v7x",
        "outputId": "afb41bc0-27d1-4c0a-d4e0-d1128d48fe9f"
      },
      "outputs": [
        {
          "output_type": "display_data",
          "data": {
            "text/plain": [
              "<Figure size 2000x400 with 10 Axes>"
            ],
            "image/png": "[encoded data removed]"
          },
          "metadata": {}
        }
      ],
      "source": [
        "plot_example(X_test[error_mask_fcn], y_pred[error_mask_fcn])"
      ]
    },
    {
      "cell_type": "markdown",
      "metadata": {
        "id": "gkbArO-cBmlg"
      },
      "source": [
        "- Last questions. Please take a look at the training loops of the fully connected network and the convolutional network. Comment on the similarities and differences."
      ]
    },
    {
      "cell_type": "markdown",
      "metadata": {
        "id": "73c12432Bmlg"
      },
      "source": [
        "Similarities:\n",
        "   - Both models go through the same steps, taking data in batches, running it through the network, calculating the loss, and updating the weights using backpropagation.\n",
        "   - Both use the same loss function, `CrossEntropyLoss`, because this works well for classification problems like recognizing digits.\n",
        "   - Both use the Adam optimizer to improve the model during training.\n",
        "   - Both train for several rounds and calculate the average loss during each round.\n",
        "\n",
        "Differences:\n",
        "- **FCN**: This network has only fully connected layers. It flattens the image into a single long 1 dimenisonal vector.\n",
        "- **FCN**: Needs the image to be reshaped into a flat vector.\n",
        "- **FCN**: Performs well (97% accuracy) but doesn’t specialize in images so it misses some details.\n",
        "- **CNN**: This network uses special convolutional layers that work directly on the 2D image shape. These layers are great at recognizing patterns like edges or textures.\n",
        "- **CNN**: Keeps the image in its original 2D format with one channel.\n",
        "- **CNN**: Does better (99% accuracy) because it’s built to recognize image patterns like edges and shapes.\n",
        "\n",
        "Some extra notes:\n",
        "- CNN can be slower per training step because it has more operations, but it’s much more efficient for images and doesn’t need as many tweaks to get good results.\n",
        "\n",
        "- Both networks follow the same training process, but CNN is much better for image data because it can naturally detect patterns in the image structure, while FCN treats the image like a list of numbers. That’s why CNN gets better accuracy, even though both are trained in similar ways."
      ]
    },
    {
      "cell_type": "markdown",
      "metadata": {
        "id": "CJwDmOLsBmlg"
      },
      "source": [
        "You can see although the network architecture is different, the training loops are very similar.\n",
        "\n",
        "This is one feature of neural networks models. You can build significantly larger models and train them efficiently with a similar training loop, as long as you have enough computational power.   "
      ]
    },
    {
      "cell_type": "markdown",
      "metadata": {
        "id": "Atp1l51PBmlg"
      },
      "source": [
        "- Even though the network designs are different but the way they are trained is pretty much the same. That’s one cool thing about neural networks, we can create much bigger and more complex models, but still train them in almost the same way."
      ]
    },
    {
      "cell_type": "markdown",
      "metadata": {
        "id": "WnZ9vSUoBmlg"
      },
      "source": [
        "Bonus points: One challenge in deep learning training is to find the proper hyperparameters. There are many hyperparameters to tune, such as the learning rate, the number of hidden layers, the number of neurons in each layer, the batch size, the number of epochs, etc.\n",
        "\n",
        "Try to tune the hyperparameters of the convolutional network model to achieve a higher accuracy. For the MNIST dataset, an accuracy of >99% is possible with the LeNet architecture. Could you achieve this?"
      ]
    },
    {
      "cell_type": "markdown",
      "metadata": {
        "id": "7CvYL4aUBmlg"
      },
      "source": [
        "**The main thing is to play around with adjusting batch_size, learning_rate, epochs, and dropout_rate to explore their impact on accuracy.**\n",
        "- Maybe starting with 0.001 and adjust it up or down. A learning rate that's too high will make the model miss good solutions, while one that's too low will make training too slow.\n",
        "- Increasing the filters in the convolutional layers. More filters help the model learn more detailed features.\n",
        "- We can also try different batch sizes. Smaller batches usually help the model learn better but take more time, while larger batches train faster but may not perform as well.\n",
        "- Training for more epochs to give the model enough time to improve.\n",
        "- Adjusting the dropout rate. If the model is overfitting we might consider increaseing dropout. If it’s underfitting we should try lowering it.\n",
        "- Adding variety to the training data by rotating, flipping, or zooming in&out on the images. This helps the model generalize better and can boost accuracy.\n",
        "- Different optimizers can sometimes make a big difference in performance."
      ]
    },
    {
      "cell_type": "code",
      "source": [],
      "metadata": {
        "id": "VXGDSCKAH4c5"
      },
      "execution_count": 68,
      "outputs": []
    }
  ],
  "metadata": {
    "accelerator": "GPU",
    "colab": {
      "provenance": []
    },
    "gpuClass": "standard",
    "kernelspec": {
      "display_name": "base",
      "language": "python",
      "name": "python3"
    },
    "language_info": {
      "codemirror_mode": {
        "name": "ipython",
        "version": 3
      },
      "file_extension": ".py",
      "mimetype": "text/x-python",
      "name": "python",
      "nbconvert_exporter": "python",
      "pygments_lexer": "ipython3",
      "version": "3.10.12"
    },
    "vscode": {
      "interpreter": {
        "hash": "bd97b8bffa4d3737e84826bc3d37be3046061822757ce35137ab82ad4c5a2016"
      }
    }
  },
  "nbformat": 4,
  "nbformat_minor": 0
}